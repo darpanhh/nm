{
 "cells": [
  {
   "cell_type": "code",
   "execution_count": 1,
   "id": "b2db5c59",
   "metadata": {},
   "outputs": [],
   "source": [
    "import numpy as np"
   ]
  },
  {
   "cell_type": "code",
   "execution_count": null,
   "id": "9bf2900e",
   "metadata": {},
   "outputs": [],
   "source": [
    "def GaussJordan(A,B):\n",
    "    if A.ndim!=2 or B.ndim!=1 or A.shape[0]!=A.shape[1] or A.shape[0]!=B.shape[0]:\n",
    "        print(\"Incorrect dimension\")\n",
    "        return None\n",
    "    n=len(B)\n",
    "    for j in range(n):\n",
    "        if abs(A[j][j])<5e-9:\n",
    "            print(\"Divide by zero\")\n",
    "            return None\n",
    "        for i in range(n):\n",
    "            ratio=A[i][j]/A[j][j]\n",
    "            if i!=j:\n",
    "                k=range(j,n)\n",
    "                A[i][k] -= ratio*A[j][k]\n",
    "                B[i] -= ratio*B[j]\n",
    "            \n",
    "    X=np.zeros(n,dtype=float)    \n",
    "    for i in range(n):\n",
    "        X[i]=B[i]/A[i][i]\n",
    "    return X\n",
    "            "
   ]
  },
  {
   "cell_type": "code",
   "execution_count": 12,
   "id": "b1fbe4fd",
   "metadata": {},
   "outputs": [
    {
     "name": "stdout",
     "output_type": "stream",
     "text": [
      "[5. 2. 3.]\n"
     ]
    }
   ],
   "source": [
    "A=np.array([[2,3,5],[3,5,2],[5,2,3]],dtype=float)\n",
    "B=np.array([31,31,38],dtype=float)\n",
    "X=GaussJordan(A,B)\n",
    "print(X)"
   ]
  },
  {
   "cell_type": "code",
   "execution_count": null,
   "id": "91512189",
   "metadata": {},
   "outputs": [],
   "source": []
  }
 ],
 "metadata": {
  "kernelspec": {
   "display_name": "base",
   "language": "python",
   "name": "python3"
  },
  "language_info": {
   "codemirror_mode": {
    "name": "ipython",
    "version": 3
   },
   "file_extension": ".py",
   "mimetype": "text/x-python",
   "name": "python",
   "nbconvert_exporter": "python",
   "pygments_lexer": "ipython3",
   "version": "3.12.7"
  }
 },
 "nbformat": 4,
 "nbformat_minor": 5
}
