{
 "cells": [
  {
   "cell_type": "code",
   "execution_count": 1,
   "id": "73c77835",
   "metadata": {},
   "outputs": [],
   "source": [
    "import numpy as np"
   ]
  },
  {
   "cell_type": "code",
   "execution_count": 2,
   "id": "acbbf4d8",
   "metadata": {},
   "outputs": [],
   "source": [
    "def Trapezoidal(F,a,b,n):\n",
    "    h=(b-a)/n\n",
    "    result = F(a)+F(b)\n",
    "    for i in range(1,n):\n",
    "        result+=2*F(a+i*h)\n",
    "    result*=h/2\n",
    "    return result"
   ]
  },
  {
   "cell_type": "code",
   "execution_count": 3,
   "id": "c14bea90",
   "metadata": {},
   "outputs": [
    {
     "name": "stdout",
     "output_type": "stream",
     "text": [
      "3.1404352468468506\n"
     ]
    }
   ],
   "source": [
    "f=lambda x: 4/(1+x**2)\n",
    "print(Trapezoidal(f,0,1,12))"
   ]
  },
  {
   "cell_type": "code",
   "execution_count": null,
   "id": "745bac44",
   "metadata": {},
   "outputs": [],
   "source": [
    "def Simpson1by3(F,a,b,n):\n",
    "    if n%2!=0:\n",
    "        print(\"Error: for Simpson 1by3 rule n must be multiple of 2\")\n",
    "        return None\n",
    "    h=(b-a)/n\n",
    "    result=F(a)+F(b)\n",
    "    for i in range(1,n):\n",
    "        if i%2==0:\n",
    "            m=2\n",
    "        else:\n",
    "            m=4\n",
    "        result+=m*F(a+i*h)    \n",
    "    result*=h/3\n",
    "    return result"
   ]
  },
  {
   "cell_type": "code",
   "execution_count": 6,
   "id": "e06ebf83",
   "metadata": {},
   "outputs": [
    {
     "name": "stdout",
     "output_type": "stream",
     "text": [
      "3.1415926403053795\n"
     ]
    }
   ],
   "source": [
    "print(Simpson1by3(f,0,1,12))"
   ]
  },
  {
   "cell_type": "code",
   "execution_count": 7,
   "id": "75cb07b1",
   "metadata": {},
   "outputs": [],
   "source": [
    "def Simpson3by8(F,a,b,n):\n",
    "    if n%3!=0:\n",
    "        print(\"Error n must be multiple of 3\")\n",
    "        return None\n",
    "    h=(b-a)/n\n",
    "    result=F(a)+F(b)\n",
    "    for i in range(1,n):\n",
    "        if i%3==0:\n",
    "            m=2\n",
    "        else:\n",
    "            m=3\n",
    "        result+=m*F(a+i*h)\n",
    "    result*=3*h/8\n",
    "    return result"
   ]
  },
  {
   "cell_type": "code",
   "execution_count": 8,
   "id": "d6d41436",
   "metadata": {},
   "outputs": [
    {
     "name": "stdout",
     "output_type": "stream",
     "text": [
      "3.1415925938791776\n"
     ]
    }
   ],
   "source": [
    "print(Simpson3by8(f,0,1,12))"
   ]
  },
  {
   "cell_type": "code",
   "execution_count": 9,
   "id": "75f7b5c1",
   "metadata": {},
   "outputs": [],
   "source": [
    "def BooleRule(f,a,b,n):\n",
    "    if n%4!=0:\n",
    "        print(\"Error n must be multiple of 4\")\n",
    "        return None\n",
    "    h=(b-a)/n\n",
    "    result=7*(f(a)+f(b))\n",
    "    for i in range(1,n):\n",
    "        if i%4==0:\n",
    "            m=14\n",
    "        elif i%2==0:\n",
    "            m=12\n",
    "        else:\n",
    "            m=32\n",
    "        result+=m*f(a+i*h)\n",
    "    result*=2*h/45\n",
    "    return result\n",
    "            "
   ]
  },
  {
   "cell_type": "code",
   "execution_count": 10,
   "id": "b3dc5e33",
   "metadata": {},
   "outputs": [
    {
     "name": "stdout",
     "output_type": "stream",
     "text": [
      "3.141592697596668\n"
     ]
    }
   ],
   "source": [
    "print(BooleRule(f,0,1,12))"
   ]
  },
  {
   "cell_type": "code",
   "execution_count": 11,
   "id": "ea52f4fd",
   "metadata": {},
   "outputs": [],
   "source": [
    "def WeddleRule(f,a,b,n):\n",
    "    if n%6!=0:\n",
    "        print(\"Error n must be multiple of 6\")\n",
    "        return None\n",
    "    h=(b-a)/n\n",
    "    result=f(a)+f(b)\n",
    "    for i in range(1,n):\n",
    "        if i%6==0:\n",
    "            m=2\n",
    "        elif i%3==0:\n",
    "            m=6\n",
    "        elif i%2==0:\n",
    "            m=1\n",
    "        else:\n",
    "            m=5\n",
    "        result+=m*f(a+i*h)\n",
    "    result*=3*h/10\n",
    "    return result"
   ]
  },
  {
   "cell_type": "code",
   "execution_count": 12,
   "id": "4046bafc",
   "metadata": {},
   "outputs": [
    {
     "name": "stdout",
     "output_type": "stream",
     "text": [
      "3.141592677446342\n"
     ]
    }
   ],
   "source": [
    "print(WeddleRule(f,0,1,12))"
   ]
  }
 ],
 "metadata": {
  "kernelspec": {
   "display_name": "base",
   "language": "python",
   "name": "python3"
  },
  "language_info": {
   "codemirror_mode": {
    "name": "ipython",
    "version": 3
   },
   "file_extension": ".py",
   "mimetype": "text/x-python",
   "name": "python",
   "nbconvert_exporter": "python",
   "pygments_lexer": "ipython3",
   "version": "3.12.7"
  }
 },
 "nbformat": 4,
 "nbformat_minor": 5
}
