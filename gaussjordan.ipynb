{
 "cells": [
  {
   "cell_type": "code",
   "execution_count": 1,
   "id": "f9894862",
   "metadata": {},
   "outputs": [],
   "source": [
    "import numpy as np\n",
    "import matplotlib.pyplot as plt"
   ]
  },
  {
   "cell_type": "code",
   "execution_count": 2,
   "id": "6fef061d",
   "metadata": {},
   "outputs": [],
   "source": [
    "def GaussJordan(a,b):\n",
    "    A=np.array(a,dtype=float)\n",
    "    B=np.array(b,dtype=float)\n",
    "    if A.ndim!=2 or B.ndim!=1 or A.shape[0]!=A.shape[1] or A.shape[0]!=B.shape[0]:\n",
    "        print(\"Incorrect dimensions\")\n",
    "        return None\n",
    "    n=len(B)\n",
    "    #Diagonalization\n",
    "    for j in range(n):\n",
    "        if abs(A[j][j])<0.5e-9:\n",
    "            print(f\"Error! Pivot [{j+1}{j+1}] is zero or close to zero\")\n",
    "            return None\n",
    "        for i in range(n):\n",
    "            ratio=A[i][j]/A[j][j]\n",
    "            if i!=j:\n",
    "                k=range(j,n)\n",
    "                A[i][k]-=ratio*A[j][k]\n",
    "                B[i]-=ratio*B[j]\n",
    "                \n",
    "    X=np.zeros(n,dtype=float)\n",
    "    for i in range(n):\n",
    "        X[i]=B[i]/A[i][i]\n",
    "        \n",
    "    return X\n",
    "                "
   ]
  },
  {
   "cell_type": "code",
   "execution_count": 3,
   "id": "8085417f",
   "metadata": {},
   "outputs": [
    {
     "name": "stdout",
     "output_type": "stream",
     "text": [
      "Solution [5. 2. 3.]\n"
     ]
    }
   ],
   "source": [
    "A=[[2,3,5],[3,5,2],[5,2,3]]\n",
    "B=[31,31,38]\n",
    "X=GaussJordan(A,B)\n",
    "print(\"Solution\",X)\n"
   ]
  },
  {
   "cell_type": "code",
   "execution_count": null,
   "id": "67cdc236",
   "metadata": {},
   "outputs": [],
   "source": []
  }
 ],
 "metadata": {
  "kernelspec": {
   "display_name": "base",
   "language": "python",
   "name": "python3"
  },
  "language_info": {
   "codemirror_mode": {
    "name": "ipython",
    "version": 3
   },
   "file_extension": ".py",
   "mimetype": "text/x-python",
   "name": "python",
   "nbconvert_exporter": "python",
   "pygments_lexer": "ipython3",
   "version": "3.12.7"
  }
 },
 "nbformat": 4,
 "nbformat_minor": 5
}
