{
 "cells": [
  {
   "cell_type": "code",
   "execution_count": 1,
   "id": "0ab05ba8",
   "metadata": {},
   "outputs": [],
   "source": [
    "import numpy as np"
   ]
  },
  {
   "cell_type": "code",
   "execution_count": 2,
   "id": "f59c06ea",
   "metadata": {},
   "outputs": [],
   "source": [
    "def GaussLegendre(f,a,b):\n",
    "    w=np.array([5/9,8/9,5/9])\n",
    "    z=np.array([-np.sqrt(3/5),0,np.sqrt(3/5)])\n",
    "    P=(b-a)/2\n",
    "    Q=(a+b)/2\n",
    "    x=P*z+Q\n",
    "    result=P*np.dot(f(x),w)\n",
    "    return result"
   ]
  },
  {
   "cell_type": "code",
   "execution_count": 3,
   "id": "79b48017",
   "metadata": {},
   "outputs": [
    {
     "name": "stdout",
     "output_type": "stream",
     "text": [
      "14.0\n"
     ]
    }
   ],
   "source": [
    "print(GaussLegendre(lambda x:x**3+5,0,2))"
   ]
  },
  {
   "cell_type": "code",
   "execution_count": null,
   "id": "fbd3687b",
   "metadata": {},
   "outputs": [],
   "source": []
  }
 ],
 "metadata": {
  "kernelspec": {
   "display_name": "base",
   "language": "python",
   "name": "python3"
  },
  "language_info": {
   "codemirror_mode": {
    "name": "ipython",
    "version": 3
   },
   "file_extension": ".py",
   "mimetype": "text/x-python",
   "name": "python",
   "nbconvert_exporter": "python",
   "pygments_lexer": "ipython3",
   "version": "3.12.7"
  }
 },
 "nbformat": 4,
 "nbformat_minor": 5
}
